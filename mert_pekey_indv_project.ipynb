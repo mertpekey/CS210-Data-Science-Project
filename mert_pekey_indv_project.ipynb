{
  "nbformat": 4,
  "nbformat_minor": 0,
  "metadata": {
    "kernelspec": {
      "display_name": "Python 3",
      "language": "python",
      "name": "python3"
    },
    "language_info": {
      "codemirror_mode": {
        "name": "ipython",
        "version": 3
      },
      "file_extension": ".py",
      "mimetype": "text/x-python",
      "name": "python",
      "nbconvert_exporter": "python",
      "pygments_lexer": "ipython3",
      "version": "3.7.1"
    },
    "colab": {
      "name": "mert_pekey_indv_proj.ipynb",
      "provenance": [],
      "collapsed_sections": [
        "Hod2u1CDD4ud",
        "kgsCBLFvD4uo"
      ]
    }
  },
  "cells": [
    {
      "cell_type": "markdown",
      "metadata": {
        "id": "7tKsfu1SD4te",
        "colab_type": "text"
      },
      "source": [
        "### MERT PEKEY 23646"
      ]
    },
    {
      "cell_type": "markdown",
      "metadata": {
        "id": "MFAg6gvRD4tf",
        "colab_type": "text"
      },
      "source": [
        "# CS210 PROJECT"
      ]
    },
    {
      "cell_type": "code",
      "metadata": {
        "id": "xyaSF-6lD4tg",
        "colab_type": "code",
        "colab": {}
      },
      "source": [
        "import pandas as pd\n",
        "import numpy as np\n",
        "import matplotlib.pyplot as plt\n",
        "from datetime import datetime\n",
        "import seaborn as sns\n",
        "from scipy import stats\n",
        "from os.path import join\n",
        "import reverse_geocoder as rg\n",
        "from geopy.distance import geodesic\n",
        "\n",
        "sns.set(style=\"whitegrid\")\n",
        "\n",
        "%matplotlib inline"
      ],
      "execution_count": 0,
      "outputs": []
    },
    {
      "cell_type": "code",
      "metadata": {
        "id": "GGynVuQCD4ti",
        "colab_type": "code",
        "colab": {},
        "outputId": "149660f7-49d8-421c-8fc1-6af9d525f556"
      },
      "source": [
        "cd /Users/beyhanpekey/Desktop"
      ],
      "execution_count": 0,
      "outputs": [
        {
          "output_type": "stream",
          "text": [
            "/Users/beyhanpekey/Desktop\n"
          ],
          "name": "stdout"
        }
      ]
    },
    {
      "cell_type": "code",
      "metadata": {
        "id": "LUFZoBkFD4tl",
        "colab_type": "code",
        "colab": {}
      },
      "source": [
        "d_path = \"./data\"\n",
        "filename = \"/Users/beyhanpekey/Desktop/taxi-trips.csv\"\n",
        "\n",
        "df = pd.read_csv(join(d_path, filename))"
      ],
      "execution_count": 0,
      "outputs": []
    },
    {
      "cell_type": "code",
      "metadata": {
        "id": "DYqZ4NAwD4tn",
        "colab_type": "code",
        "colab": {},
        "outputId": "7d99839a-8ca4-407e-d95c-09b465ac560d"
      },
      "source": [
        "rows,columns=df.shape\n",
        "print(\"number of rows: {}, number of columns: {}\".format(rows, columns))"
      ],
      "execution_count": 0,
      "outputs": [
        {
          "output_type": "stream",
          "text": [
            "number of rows: 118185, number of columns: 11\n"
          ],
          "name": "stdout"
        }
      ]
    },
    {
      "cell_type": "code",
      "metadata": {
        "scrolled": false,
        "id": "SoL-I_DmD4tp",
        "colab_type": "code",
        "colab": {},
        "outputId": "3657cf3d-61bc-4957-80cc-f31c5d022250"
      },
      "source": [
        "df.columns"
      ],
      "execution_count": 0,
      "outputs": [
        {
          "output_type": "execute_result",
          "data": {
            "text/plain": [
              "Index(['id', 'vendor_id', 'pickup_datetime', 'dropoff_datetime',\n",
              "       'passenger_count', 'pickup_longitude', 'pickup_latitude',\n",
              "       'dropoff_longitude', 'dropoff_latitude', 'store_and_fwd_flag',\n",
              "       'trip_duration'],\n",
              "      dtype='object')"
            ]
          },
          "metadata": {
            "tags": []
          },
          "execution_count": 6
        }
      ]
    },
    {
      "cell_type": "code",
      "metadata": {
        "id": "tPTMfYsrD4tr",
        "colab_type": "code",
        "colab": {},
        "outputId": "9752346f-c79c-4dcf-ae4e-9afcd9407643"
      },
      "source": [
        "df.dtypes"
      ],
      "execution_count": 0,
      "outputs": [
        {
          "output_type": "execute_result",
          "data": {
            "text/plain": [
              "id                     object\n",
              "vendor_id               int64\n",
              "pickup_datetime        object\n",
              "dropoff_datetime       object\n",
              "passenger_count         int64\n",
              "pickup_longitude      float64\n",
              "pickup_latitude       float64\n",
              "dropoff_longitude     float64\n",
              "dropoff_latitude      float64\n",
              "store_and_fwd_flag     object\n",
              "trip_duration           int64\n",
              "dtype: object"
            ]
          },
          "metadata": {
            "tags": []
          },
          "execution_count": 7
        }
      ]
    },
    {
      "cell_type": "code",
      "metadata": {
        "id": "QpSdBmhWD4tt",
        "colab_type": "code",
        "colab": {},
        "outputId": "9dfdcfc5-cba5-4148-db69-f1633a1fd1cf"
      },
      "source": [
        "df.head()"
      ],
      "execution_count": 0,
      "outputs": [
        {
          "output_type": "execute_result",
          "data": {
            "text/html": [
              "<div>\n",
              "<style scoped>\n",
              "    .dataframe tbody tr th:only-of-type {\n",
              "        vertical-align: middle;\n",
              "    }\n",
              "\n",
              "    .dataframe tbody tr th {\n",
              "        vertical-align: top;\n",
              "    }\n",
              "\n",
              "    .dataframe thead th {\n",
              "        text-align: right;\n",
              "    }\n",
              "</style>\n",
              "<table border=\"1\" class=\"dataframe\">\n",
              "  <thead>\n",
              "    <tr style=\"text-align: right;\">\n",
              "      <th></th>\n",
              "      <th>id</th>\n",
              "      <th>vendor_id</th>\n",
              "      <th>pickup_datetime</th>\n",
              "      <th>dropoff_datetime</th>\n",
              "      <th>passenger_count</th>\n",
              "      <th>pickup_longitude</th>\n",
              "      <th>pickup_latitude</th>\n",
              "      <th>dropoff_longitude</th>\n",
              "      <th>dropoff_latitude</th>\n",
              "      <th>store_and_fwd_flag</th>\n",
              "      <th>trip_duration</th>\n",
              "    </tr>\n",
              "  </thead>\n",
              "  <tbody>\n",
              "    <tr>\n",
              "      <th>0</th>\n",
              "      <td>id2875421</td>\n",
              "      <td>2</td>\n",
              "      <td>2016-03-14 17:24:55</td>\n",
              "      <td>2016-03-14 17:32:30</td>\n",
              "      <td>1</td>\n",
              "      <td>-73.982155</td>\n",
              "      <td>40.767937</td>\n",
              "      <td>-73.964630</td>\n",
              "      <td>40.765602</td>\n",
              "      <td>N</td>\n",
              "      <td>455</td>\n",
              "    </tr>\n",
              "    <tr>\n",
              "      <th>1</th>\n",
              "      <td>id0012891</td>\n",
              "      <td>2</td>\n",
              "      <td>2016-03-10 21:45:01</td>\n",
              "      <td>2016-03-10 22:05:26</td>\n",
              "      <td>1</td>\n",
              "      <td>-73.981049</td>\n",
              "      <td>40.744339</td>\n",
              "      <td>-73.973000</td>\n",
              "      <td>40.789989</td>\n",
              "      <td>N</td>\n",
              "      <td>1225</td>\n",
              "    </tr>\n",
              "    <tr>\n",
              "      <th>2</th>\n",
              "      <td>id3361153</td>\n",
              "      <td>1</td>\n",
              "      <td>2016-03-11 07:11:23</td>\n",
              "      <td>2016-03-11 07:20:09</td>\n",
              "      <td>1</td>\n",
              "      <td>-73.994560</td>\n",
              "      <td>40.750526</td>\n",
              "      <td>-73.978500</td>\n",
              "      <td>40.756191</td>\n",
              "      <td>N</td>\n",
              "      <td>526</td>\n",
              "    </tr>\n",
              "    <tr>\n",
              "      <th>3</th>\n",
              "      <td>id2129090</td>\n",
              "      <td>1</td>\n",
              "      <td>2016-03-14 14:05:39</td>\n",
              "      <td>2016-03-14 14:28:05</td>\n",
              "      <td>1</td>\n",
              "      <td>-73.975090</td>\n",
              "      <td>40.758766</td>\n",
              "      <td>-73.953201</td>\n",
              "      <td>40.765068</td>\n",
              "      <td>N</td>\n",
              "      <td>1346</td>\n",
              "    </tr>\n",
              "    <tr>\n",
              "      <th>4</th>\n",
              "      <td>id0256505</td>\n",
              "      <td>1</td>\n",
              "      <td>2016-03-14 15:04:38</td>\n",
              "      <td>2016-03-14 15:16:13</td>\n",
              "      <td>1</td>\n",
              "      <td>-73.994484</td>\n",
              "      <td>40.745087</td>\n",
              "      <td>-73.998993</td>\n",
              "      <td>40.722710</td>\n",
              "      <td>N</td>\n",
              "      <td>695</td>\n",
              "    </tr>\n",
              "  </tbody>\n",
              "</table>\n",
              "</div>"
            ],
            "text/plain": [
              "          id  vendor_id      pickup_datetime     dropoff_datetime  \\\n",
              "0  id2875421          2  2016-03-14 17:24:55  2016-03-14 17:32:30   \n",
              "1  id0012891          2  2016-03-10 21:45:01  2016-03-10 22:05:26   \n",
              "2  id3361153          1  2016-03-11 07:11:23  2016-03-11 07:20:09   \n",
              "3  id2129090          1  2016-03-14 14:05:39  2016-03-14 14:28:05   \n",
              "4  id0256505          1  2016-03-14 15:04:38  2016-03-14 15:16:13   \n",
              "\n",
              "   passenger_count  pickup_longitude  pickup_latitude  dropoff_longitude  \\\n",
              "0                1        -73.982155        40.767937         -73.964630   \n",
              "1                1        -73.981049        40.744339         -73.973000   \n",
              "2                1        -73.994560        40.750526         -73.978500   \n",
              "3                1        -73.975090        40.758766         -73.953201   \n",
              "4                1        -73.994484        40.745087         -73.998993   \n",
              "\n",
              "   dropoff_latitude store_and_fwd_flag  trip_duration  \n",
              "0         40.765602                  N            455  \n",
              "1         40.789989                  N           1225  \n",
              "2         40.756191                  N            526  \n",
              "3         40.765068                  N           1346  \n",
              "4         40.722710                  N            695  "
            ]
          },
          "metadata": {
            "tags": []
          },
          "execution_count": 8
        }
      ]
    },
    {
      "cell_type": "code",
      "metadata": {
        "id": "ynLRTdIVD4tw",
        "colab_type": "code",
        "colab": {},
        "outputId": "b80d3e5b-40e7-4b6b-8cda-2115ceb52d57"
      },
      "source": [
        "df.describe()"
      ],
      "execution_count": 0,
      "outputs": [
        {
          "output_type": "execute_result",
          "data": {
            "text/html": [
              "<div>\n",
              "<style scoped>\n",
              "    .dataframe tbody tr th:only-of-type {\n",
              "        vertical-align: middle;\n",
              "    }\n",
              "\n",
              "    .dataframe tbody tr th {\n",
              "        vertical-align: top;\n",
              "    }\n",
              "\n",
              "    .dataframe thead th {\n",
              "        text-align: right;\n",
              "    }\n",
              "</style>\n",
              "<table border=\"1\" class=\"dataframe\">\n",
              "  <thead>\n",
              "    <tr style=\"text-align: right;\">\n",
              "      <th></th>\n",
              "      <th>vendor_id</th>\n",
              "      <th>passenger_count</th>\n",
              "      <th>pickup_longitude</th>\n",
              "      <th>pickup_latitude</th>\n",
              "      <th>dropoff_longitude</th>\n",
              "      <th>dropoff_latitude</th>\n",
              "      <th>trip_duration</th>\n",
              "    </tr>\n",
              "  </thead>\n",
              "  <tbody>\n",
              "    <tr>\n",
              "      <th>count</th>\n",
              "      <td>118185.000000</td>\n",
              "      <td>118185.000000</td>\n",
              "      <td>118185.000000</td>\n",
              "      <td>118185.000000</td>\n",
              "      <td>118185.000000</td>\n",
              "      <td>118185.000000</td>\n",
              "      <td>118185.000000</td>\n",
              "    </tr>\n",
              "    <tr>\n",
              "      <th>mean</th>\n",
              "      <td>1.534958</td>\n",
              "      <td>1.657148</td>\n",
              "      <td>-73.973971</td>\n",
              "      <td>40.751392</td>\n",
              "      <td>-73.973538</td>\n",
              "      <td>40.752212</td>\n",
              "      <td>927.186310</td>\n",
              "    </tr>\n",
              "    <tr>\n",
              "      <th>std</th>\n",
              "      <td>0.498779</td>\n",
              "      <td>1.313844</td>\n",
              "      <td>0.040456</td>\n",
              "      <td>0.027958</td>\n",
              "      <td>0.039192</td>\n",
              "      <td>0.032284</td>\n",
              "      <td>3118.710246</td>\n",
              "    </tr>\n",
              "    <tr>\n",
              "      <th>min</th>\n",
              "      <td>1.000000</td>\n",
              "      <td>0.000000</td>\n",
              "      <td>-79.487900</td>\n",
              "      <td>40.225803</td>\n",
              "      <td>-79.487900</td>\n",
              "      <td>40.225800</td>\n",
              "      <td>1.000000</td>\n",
              "    </tr>\n",
              "    <tr>\n",
              "      <th>25%</th>\n",
              "      <td>1.000000</td>\n",
              "      <td>1.000000</td>\n",
              "      <td>-73.991875</td>\n",
              "      <td>40.737835</td>\n",
              "      <td>-73.991394</td>\n",
              "      <td>40.736462</td>\n",
              "      <td>393.000000</td>\n",
              "    </tr>\n",
              "    <tr>\n",
              "      <th>50%</th>\n",
              "      <td>2.000000</td>\n",
              "      <td>1.000000</td>\n",
              "      <td>-73.981796</td>\n",
              "      <td>40.754501</td>\n",
              "      <td>-73.979759</td>\n",
              "      <td>40.754848</td>\n",
              "      <td>652.000000</td>\n",
              "    </tr>\n",
              "    <tr>\n",
              "      <th>75%</th>\n",
              "      <td>2.000000</td>\n",
              "      <td>2.000000</td>\n",
              "      <td>-73.967575</td>\n",
              "      <td>40.768471</td>\n",
              "      <td>-73.962990</td>\n",
              "      <td>40.770077</td>\n",
              "      <td>1048.000000</td>\n",
              "    </tr>\n",
              "    <tr>\n",
              "      <th>max</th>\n",
              "      <td>2.000000</td>\n",
              "      <td>6.000000</td>\n",
              "      <td>-73.425018</td>\n",
              "      <td>41.292198</td>\n",
              "      <td>-73.055977</td>\n",
              "      <td>41.292198</td>\n",
              "      <td>86366.000000</td>\n",
              "    </tr>\n",
              "  </tbody>\n",
              "</table>\n",
              "</div>"
            ],
            "text/plain": [
              "           vendor_id  passenger_count  pickup_longitude  pickup_latitude  \\\n",
              "count  118185.000000    118185.000000     118185.000000    118185.000000   \n",
              "mean        1.534958         1.657148        -73.973971        40.751392   \n",
              "std         0.498779         1.313844          0.040456         0.027958   \n",
              "min         1.000000         0.000000        -79.487900        40.225803   \n",
              "25%         1.000000         1.000000        -73.991875        40.737835   \n",
              "50%         2.000000         1.000000        -73.981796        40.754501   \n",
              "75%         2.000000         2.000000        -73.967575        40.768471   \n",
              "max         2.000000         6.000000        -73.425018        41.292198   \n",
              "\n",
              "       dropoff_longitude  dropoff_latitude  trip_duration  \n",
              "count      118185.000000     118185.000000  118185.000000  \n",
              "mean          -73.973538         40.752212     927.186310  \n",
              "std             0.039192          0.032284    3118.710246  \n",
              "min           -79.487900         40.225800       1.000000  \n",
              "25%           -73.991394         40.736462     393.000000  \n",
              "50%           -73.979759         40.754848     652.000000  \n",
              "75%           -73.962990         40.770077    1048.000000  \n",
              "max           -73.055977         41.292198   86366.000000  "
            ]
          },
          "metadata": {
            "tags": []
          },
          "execution_count": 9
        }
      ]
    },
    {
      "cell_type": "markdown",
      "metadata": {
        "id": "RMKXyQoqD4ty",
        "colab_type": "text"
      },
      "source": [
        "We can see such statistical information about data. However we are not interested in some of the colums statistics. Therefore, let's only look at the informations we want to see separately than what we don't."
      ]
    },
    {
      "cell_type": "code",
      "metadata": {
        "id": "uKsMVbFoD4ty",
        "colab_type": "code",
        "colab": {},
        "outputId": "b7fa28c1-5e3f-415e-c77c-a03b94230530"
      },
      "source": [
        "df_stats=df[['passenger_count','trip_duration']]\n",
        "df_stats.describe()"
      ],
      "execution_count": 0,
      "outputs": [
        {
          "output_type": "execute_result",
          "data": {
            "text/html": [
              "<div>\n",
              "<style scoped>\n",
              "    .dataframe tbody tr th:only-of-type {\n",
              "        vertical-align: middle;\n",
              "    }\n",
              "\n",
              "    .dataframe tbody tr th {\n",
              "        vertical-align: top;\n",
              "    }\n",
              "\n",
              "    .dataframe thead th {\n",
              "        text-align: right;\n",
              "    }\n",
              "</style>\n",
              "<table border=\"1\" class=\"dataframe\">\n",
              "  <thead>\n",
              "    <tr style=\"text-align: right;\">\n",
              "      <th></th>\n",
              "      <th>passenger_count</th>\n",
              "      <th>trip_duration</th>\n",
              "    </tr>\n",
              "  </thead>\n",
              "  <tbody>\n",
              "    <tr>\n",
              "      <th>count</th>\n",
              "      <td>118185.000000</td>\n",
              "      <td>118185.000000</td>\n",
              "    </tr>\n",
              "    <tr>\n",
              "      <th>mean</th>\n",
              "      <td>1.657148</td>\n",
              "      <td>927.186310</td>\n",
              "    </tr>\n",
              "    <tr>\n",
              "      <th>std</th>\n",
              "      <td>1.313844</td>\n",
              "      <td>3118.710246</td>\n",
              "    </tr>\n",
              "    <tr>\n",
              "      <th>min</th>\n",
              "      <td>0.000000</td>\n",
              "      <td>1.000000</td>\n",
              "    </tr>\n",
              "    <tr>\n",
              "      <th>25%</th>\n",
              "      <td>1.000000</td>\n",
              "      <td>393.000000</td>\n",
              "    </tr>\n",
              "    <tr>\n",
              "      <th>50%</th>\n",
              "      <td>1.000000</td>\n",
              "      <td>652.000000</td>\n",
              "    </tr>\n",
              "    <tr>\n",
              "      <th>75%</th>\n",
              "      <td>2.000000</td>\n",
              "      <td>1048.000000</td>\n",
              "    </tr>\n",
              "    <tr>\n",
              "      <th>max</th>\n",
              "      <td>6.000000</td>\n",
              "      <td>86366.000000</td>\n",
              "    </tr>\n",
              "  </tbody>\n",
              "</table>\n",
              "</div>"
            ],
            "text/plain": [
              "       passenger_count  trip_duration\n",
              "count    118185.000000  118185.000000\n",
              "mean          1.657148     927.186310\n",
              "std           1.313844    3118.710246\n",
              "min           0.000000       1.000000\n",
              "25%           1.000000     393.000000\n",
              "50%           1.000000     652.000000\n",
              "75%           2.000000    1048.000000\n",
              "max           6.000000   86366.000000"
            ]
          },
          "metadata": {
            "tags": []
          },
          "execution_count": 10
        }
      ]
    },
    {
      "cell_type": "markdown",
      "metadata": {
        "id": "lYMFcx-hD4t0",
        "colab_type": "text"
      },
      "source": [
        "##### Passenger Count\n",
        "We can say that usually more than 1 passenger uses taxi by looking the mean of passenger_count which is 1.65. However, it is clear that usually this number is not more than 2 by looking the median.\n",
        "\n",
        "##### Trip Duration\n",
        "The average trip duration is 927 second which is little bit more than 15 minutes. This means passengers don't uses taxis for short trips so much. In addition, maximum trip duration which is 24 hours(1 day) is impressive and astonishing."
      ]
    },
    {
      "cell_type": "markdown",
      "metadata": {
        "id": "ApA0CKwaD4t1",
        "colab_type": "text"
      },
      "source": [
        "\n",
        "\n",
        "### Reverse Geocoder\n",
        "We get the pickup and dropoff districts with using reverse geocoder algorithm by using the coordinates. Therefore, we can use this information to find another information for our data to use them for statistical research."
      ]
    },
    {
      "cell_type": "code",
      "metadata": {
        "id": "yXuNL75_D4t1",
        "colab_type": "code",
        "colab": {},
        "outputId": "3df0a817-f2c5-4a4b-87ef-815abfb192d1"
      },
      "source": [
        "temp=[]\n",
        "for j in range(118185):\n",
        "    results=rg.search((df.at[j,'pickup_latitude'],df.at[j,'pickup_longitude']), mode=1)\n",
        "    d=list(results[0].items())\n",
        "    temp.append(d[2][1])\n",
        "df[\"pickup_district\"]=temp\n",
        "\n",
        "temp2=[]\n",
        "for m in range(118185):\n",
        "    results=rg.search((df.at[m,'dropoff_latitude'],df.at[m,'dropoff_longitude']), mode=1)\n",
        "    d=list(results[0].items())\n",
        "    temp2.append(d[2][1])\n",
        "df[\"dropoff_district\"]=temp2"
      ],
      "execution_count": 0,
      "outputs": [
        {
          "output_type": "stream",
          "text": [
            "Loading formatted geocoded file...\n"
          ],
          "name": "stdout"
        }
      ]
    },
    {
      "cell_type": "markdown",
      "metadata": {
        "id": "QDYewGHfD4t3",
        "colab_type": "text"
      },
      "source": [
        "## Top 5 Pickup and Dropoff Districts\n",
        "We can see that passengers prefers to use taxi usually in Manhattan. We can easily get that the taxi trips are one of the most important effect of the traffic in Downtown."
      ]
    },
    {
      "cell_type": "code",
      "metadata": {
        "id": "ms27rSdID4t3",
        "colab_type": "code",
        "colab": {},
        "outputId": "ba198017-bf5c-4d81-8ec2-0b55bb8d7f5b"
      },
      "source": [
        "top5pickup = df.groupby(by=\"pickup_district\").size().reset_index(name='counts')\n",
        "top5pickup.sort_values(by='counts', ascending=False, inplace=True)\n",
        "top5pickup = top5pickup.reset_index(drop=True)\n",
        "top5pickup.head()"
      ],
      "execution_count": 0,
      "outputs": [
        {
          "output_type": "execute_result",
          "data": {
            "text/html": [
              "<div>\n",
              "<style scoped>\n",
              "    .dataframe tbody tr th:only-of-type {\n",
              "        vertical-align: middle;\n",
              "    }\n",
              "\n",
              "    .dataframe tbody tr th {\n",
              "        vertical-align: top;\n",
              "    }\n",
              "\n",
              "    .dataframe thead th {\n",
              "        text-align: right;\n",
              "    }\n",
              "</style>\n",
              "<table border=\"1\" class=\"dataframe\">\n",
              "  <thead>\n",
              "    <tr style=\"text-align: right;\">\n",
              "      <th></th>\n",
              "      <th>pickup_district</th>\n",
              "      <th>counts</th>\n",
              "    </tr>\n",
              "  </thead>\n",
              "  <tbody>\n",
              "    <tr>\n",
              "      <th>0</th>\n",
              "      <td>Manhattan</td>\n",
              "      <td>45329</td>\n",
              "    </tr>\n",
              "    <tr>\n",
              "      <th>1</th>\n",
              "      <td>New York City</td>\n",
              "      <td>34625</td>\n",
              "    </tr>\n",
              "    <tr>\n",
              "      <th>2</th>\n",
              "      <td>Long Island City</td>\n",
              "      <td>17787</td>\n",
              "    </tr>\n",
              "    <tr>\n",
              "      <th>3</th>\n",
              "      <td>Weehawken</td>\n",
              "      <td>11334</td>\n",
              "    </tr>\n",
              "    <tr>\n",
              "      <th>4</th>\n",
              "      <td>The Bronx</td>\n",
              "      <td>2777</td>\n",
              "    </tr>\n",
              "  </tbody>\n",
              "</table>\n",
              "</div>"
            ],
            "text/plain": [
              "    pickup_district  counts\n",
              "0         Manhattan   45329\n",
              "1     New York City   34625\n",
              "2  Long Island City   17787\n",
              "3         Weehawken   11334\n",
              "4         The Bronx    2777"
            ]
          },
          "metadata": {
            "tags": []
          },
          "execution_count": 12
        }
      ]
    },
    {
      "cell_type": "markdown",
      "metadata": {
        "id": "JOwjT1dnD4t5",
        "colab_type": "text"
      },
      "source": [
        "The top 5 number of pickup and dropoff districts are almost the same so it gives us that passengers don't usually use taxi for long trips in New York."
      ]
    },
    {
      "cell_type": "code",
      "metadata": {
        "id": "EfEUL9iQD4t5",
        "colab_type": "code",
        "colab": {},
        "outputId": "60ee768d-1448-48ea-83fb-026947faea59"
      },
      "source": [
        "top5dropoff = df.groupby(by=\"dropoff_district\").size().reset_index(name='counts')\n",
        "top5dropoff.sort_values(by='counts', ascending=False, inplace=True)\n",
        "top5dropoff = top5dropoff.reset_index(drop=True)\n",
        "top5dropoff.head()"
      ],
      "execution_count": 0,
      "outputs": [
        {
          "output_type": "execute_result",
          "data": {
            "text/html": [
              "<div>\n",
              "<style scoped>\n",
              "    .dataframe tbody tr th:only-of-type {\n",
              "        vertical-align: middle;\n",
              "    }\n",
              "\n",
              "    .dataframe tbody tr th {\n",
              "        vertical-align: top;\n",
              "    }\n",
              "\n",
              "    .dataframe thead th {\n",
              "        text-align: right;\n",
              "    }\n",
              "</style>\n",
              "<table border=\"1\" class=\"dataframe\">\n",
              "  <thead>\n",
              "    <tr style=\"text-align: right;\">\n",
              "      <th></th>\n",
              "      <th>dropoff_district</th>\n",
              "      <th>counts</th>\n",
              "    </tr>\n",
              "  </thead>\n",
              "  <tbody>\n",
              "    <tr>\n",
              "      <th>0</th>\n",
              "      <td>Manhattan</td>\n",
              "      <td>44478</td>\n",
              "    </tr>\n",
              "    <tr>\n",
              "      <th>1</th>\n",
              "      <td>New York City</td>\n",
              "      <td>31082</td>\n",
              "    </tr>\n",
              "    <tr>\n",
              "      <th>2</th>\n",
              "      <td>Long Island City</td>\n",
              "      <td>19919</td>\n",
              "    </tr>\n",
              "    <tr>\n",
              "      <th>3</th>\n",
              "      <td>Weehawken</td>\n",
              "      <td>10621</td>\n",
              "    </tr>\n",
              "    <tr>\n",
              "      <th>4</th>\n",
              "      <td>Brooklyn</td>\n",
              "      <td>2059</td>\n",
              "    </tr>\n",
              "  </tbody>\n",
              "</table>\n",
              "</div>"
            ],
            "text/plain": [
              "   dropoff_district  counts\n",
              "0         Manhattan   44478\n",
              "1     New York City   31082\n",
              "2  Long Island City   19919\n",
              "3         Weehawken   10621\n",
              "4          Brooklyn    2059"
            ]
          },
          "metadata": {
            "tags": []
          },
          "execution_count": 13
        }
      ]
    },
    {
      "cell_type": "markdown",
      "metadata": {
        "id": "HIc_b0SsD4t7",
        "colab_type": "text"
      },
      "source": [
        "## Distances Of Taxi Trips with Geopy\n",
        "With using geodesic in geopy, we get the distances of the taxi trips by using pickup and dropoff coordinates."
      ]
    },
    {
      "cell_type": "code",
      "metadata": {
        "id": "6gg7FT-ZD4t7",
        "colab_type": "code",
        "colab": {}
      },
      "source": [
        "temp3=[]\n",
        "for k in range(118185):\n",
        "    temp3.append(geodesic((df.at[k,'pickup_latitude'],df.at[k,'pickup_longitude']),(df.at[k,'dropoff_latitude'],df.at[k,'dropoff_longitude'])).miles)\n",
        "df['distance']=temp3"
      ],
      "execution_count": 0,
      "outputs": []
    },
    {
      "cell_type": "code",
      "metadata": {
        "id": "WzY94aVcD4t9",
        "colab_type": "code",
        "colab": {},
        "outputId": "1a3e66b6-c4a7-44ad-c270-16f0bbebd055"
      },
      "source": [
        "df.head()"
      ],
      "execution_count": 0,
      "outputs": [
        {
          "output_type": "execute_result",
          "data": {
            "text/html": [
              "<div>\n",
              "<style scoped>\n",
              "    .dataframe tbody tr th:only-of-type {\n",
              "        vertical-align: middle;\n",
              "    }\n",
              "\n",
              "    .dataframe tbody tr th {\n",
              "        vertical-align: top;\n",
              "    }\n",
              "\n",
              "    .dataframe thead th {\n",
              "        text-align: right;\n",
              "    }\n",
              "</style>\n",
              "<table border=\"1\" class=\"dataframe\">\n",
              "  <thead>\n",
              "    <tr style=\"text-align: right;\">\n",
              "      <th></th>\n",
              "      <th>id</th>\n",
              "      <th>vendor_id</th>\n",
              "      <th>pickup_datetime</th>\n",
              "      <th>dropoff_datetime</th>\n",
              "      <th>passenger_count</th>\n",
              "      <th>pickup_longitude</th>\n",
              "      <th>pickup_latitude</th>\n",
              "      <th>dropoff_longitude</th>\n",
              "      <th>dropoff_latitude</th>\n",
              "      <th>store_and_fwd_flag</th>\n",
              "      <th>trip_duration</th>\n",
              "      <th>pickup_district</th>\n",
              "      <th>dropoff_district</th>\n",
              "      <th>distance</th>\n",
              "    </tr>\n",
              "  </thead>\n",
              "  <tbody>\n",
              "    <tr>\n",
              "      <th>0</th>\n",
              "      <td>id2875421</td>\n",
              "      <td>2</td>\n",
              "      <td>2016-03-14 17:24:55</td>\n",
              "      <td>2016-03-14 17:32:30</td>\n",
              "      <td>1</td>\n",
              "      <td>-73.982155</td>\n",
              "      <td>40.767937</td>\n",
              "      <td>-73.964630</td>\n",
              "      <td>40.765602</td>\n",
              "      <td>N</td>\n",
              "      <td>455</td>\n",
              "      <td>Manhattan</td>\n",
              "      <td>Manhattan</td>\n",
              "      <td>0.933406</td>\n",
              "    </tr>\n",
              "    <tr>\n",
              "      <th>1</th>\n",
              "      <td>id0012891</td>\n",
              "      <td>2</td>\n",
              "      <td>2016-03-10 21:45:01</td>\n",
              "      <td>2016-03-10 22:05:26</td>\n",
              "      <td>1</td>\n",
              "      <td>-73.981049</td>\n",
              "      <td>40.744339</td>\n",
              "      <td>-73.973000</td>\n",
              "      <td>40.789989</td>\n",
              "      <td>N</td>\n",
              "      <td>1225</td>\n",
              "      <td>Long Island City</td>\n",
              "      <td>Manhattan</td>\n",
              "      <td>3.178194</td>\n",
              "    </tr>\n",
              "    <tr>\n",
              "      <th>2</th>\n",
              "      <td>id3361153</td>\n",
              "      <td>1</td>\n",
              "      <td>2016-03-11 07:11:23</td>\n",
              "      <td>2016-03-11 07:20:09</td>\n",
              "      <td>1</td>\n",
              "      <td>-73.994560</td>\n",
              "      <td>40.750526</td>\n",
              "      <td>-73.978500</td>\n",
              "      <td>40.756191</td>\n",
              "      <td>N</td>\n",
              "      <td>526</td>\n",
              "      <td>Weehawken</td>\n",
              "      <td>Manhattan</td>\n",
              "      <td>0.928961</td>\n",
              "    </tr>\n",
              "    <tr>\n",
              "      <th>3</th>\n",
              "      <td>id2129090</td>\n",
              "      <td>1</td>\n",
              "      <td>2016-03-14 14:05:39</td>\n",
              "      <td>2016-03-14 14:28:05</td>\n",
              "      <td>1</td>\n",
              "      <td>-73.975090</td>\n",
              "      <td>40.758766</td>\n",
              "      <td>-73.953201</td>\n",
              "      <td>40.765068</td>\n",
              "      <td>N</td>\n",
              "      <td>1346</td>\n",
              "      <td>Manhattan</td>\n",
              "      <td>Long Island City</td>\n",
              "      <td>1.228003</td>\n",
              "    </tr>\n",
              "    <tr>\n",
              "      <th>4</th>\n",
              "      <td>id0256505</td>\n",
              "      <td>1</td>\n",
              "      <td>2016-03-14 15:04:38</td>\n",
              "      <td>2016-03-14 15:16:13</td>\n",
              "      <td>1</td>\n",
              "      <td>-73.994484</td>\n",
              "      <td>40.745087</td>\n",
              "      <td>-73.998993</td>\n",
              "      <td>40.722710</td>\n",
              "      <td>N</td>\n",
              "      <td>695</td>\n",
              "      <td>New York City</td>\n",
              "      <td>New York City</td>\n",
              "      <td>1.562103</td>\n",
              "    </tr>\n",
              "  </tbody>\n",
              "</table>\n",
              "</div>"
            ],
            "text/plain": [
              "          id  vendor_id      pickup_datetime     dropoff_datetime  \\\n",
              "0  id2875421          2  2016-03-14 17:24:55  2016-03-14 17:32:30   \n",
              "1  id0012891          2  2016-03-10 21:45:01  2016-03-10 22:05:26   \n",
              "2  id3361153          1  2016-03-11 07:11:23  2016-03-11 07:20:09   \n",
              "3  id2129090          1  2016-03-14 14:05:39  2016-03-14 14:28:05   \n",
              "4  id0256505          1  2016-03-14 15:04:38  2016-03-14 15:16:13   \n",
              "\n",
              "   passenger_count  pickup_longitude  pickup_latitude  dropoff_longitude  \\\n",
              "0                1        -73.982155        40.767937         -73.964630   \n",
              "1                1        -73.981049        40.744339         -73.973000   \n",
              "2                1        -73.994560        40.750526         -73.978500   \n",
              "3                1        -73.975090        40.758766         -73.953201   \n",
              "4                1        -73.994484        40.745087         -73.998993   \n",
              "\n",
              "   dropoff_latitude store_and_fwd_flag  trip_duration   pickup_district  \\\n",
              "0         40.765602                  N            455         Manhattan   \n",
              "1         40.789989                  N           1225  Long Island City   \n",
              "2         40.756191                  N            526         Weehawken   \n",
              "3         40.765068                  N           1346         Manhattan   \n",
              "4         40.722710                  N            695     New York City   \n",
              "\n",
              "   dropoff_district  distance  \n",
              "0         Manhattan  0.933406  \n",
              "1         Manhattan  3.178194  \n",
              "2         Manhattan  0.928961  \n",
              "3  Long Island City  1.228003  \n",
              "4     New York City  1.562103  "
            ]
          },
          "metadata": {
            "tags": []
          },
          "execution_count": 15
        }
      ]
    },
    {
      "cell_type": "markdown",
      "metadata": {
        "id": "hiKZ4czDD4t_",
        "colab_type": "text"
      },
      "source": [
        "## The Time Of The Day For Taxi Usage\n",
        "\n",
        "We can get more clear look to taxi trips with getting the time of day, so we can use this information to analyze our data and to see how distance and the duration of the trip change with the time."
      ]
    },
    {
      "cell_type": "code",
      "metadata": {
        "id": "3WXtg7aAD4t_",
        "colab_type": "code",
        "colab": {}
      },
      "source": [
        "df['time_of_day']=pd.DatetimeIndex(df['pickup_datetime']).hour.astype(str)"
      ],
      "execution_count": 0,
      "outputs": []
    },
    {
      "cell_type": "code",
      "metadata": {
        "id": "UPsizDbZD4uB",
        "colab_type": "code",
        "colab": {}
      },
      "source": [
        "word=''\n",
        "m=0\n",
        "while(m<=23):\n",
        "    if(m<7 or m==23):\n",
        "        word='late_night'\n",
        "    elif(m>=7 and m<9):\n",
        "        word='rush_hour_morning'\n",
        "    elif(m>=9 and m<16):\n",
        "        word='afternoon'\n",
        "    elif(m>=16 and m<18):\n",
        "        word='rush_hour_evening'\n",
        "    elif(m>=18 and m<23):\n",
        "          word='evening'\n",
        "    df.loc[df['time_of_day'] == str(m),'time_of_day'] = word\n",
        "    m=m+1"
      ],
      "execution_count": 0,
      "outputs": []
    },
    {
      "cell_type": "code",
      "metadata": {
        "id": "FI30TFn5D4uC",
        "colab_type": "code",
        "colab": {},
        "outputId": "2d63e476-29e1-4701-e82c-7ca4b6c18ee6"
      },
      "source": [
        "df.head()"
      ],
      "execution_count": 0,
      "outputs": [
        {
          "output_type": "execute_result",
          "data": {
            "text/html": [
              "<div>\n",
              "<style scoped>\n",
              "    .dataframe tbody tr th:only-of-type {\n",
              "        vertical-align: middle;\n",
              "    }\n",
              "\n",
              "    .dataframe tbody tr th {\n",
              "        vertical-align: top;\n",
              "    }\n",
              "\n",
              "    .dataframe thead th {\n",
              "        text-align: right;\n",
              "    }\n",
              "</style>\n",
              "<table border=\"1\" class=\"dataframe\">\n",
              "  <thead>\n",
              "    <tr style=\"text-align: right;\">\n",
              "      <th></th>\n",
              "      <th>id</th>\n",
              "      <th>vendor_id</th>\n",
              "      <th>pickup_datetime</th>\n",
              "      <th>dropoff_datetime</th>\n",
              "      <th>passenger_count</th>\n",
              "      <th>pickup_longitude</th>\n",
              "      <th>pickup_latitude</th>\n",
              "      <th>dropoff_longitude</th>\n",
              "      <th>dropoff_latitude</th>\n",
              "      <th>store_and_fwd_flag</th>\n",
              "      <th>trip_duration</th>\n",
              "      <th>pickup_district</th>\n",
              "      <th>dropoff_district</th>\n",
              "      <th>distance</th>\n",
              "      <th>time_of_day</th>\n",
              "    </tr>\n",
              "  </thead>\n",
              "  <tbody>\n",
              "    <tr>\n",
              "      <th>0</th>\n",
              "      <td>id2875421</td>\n",
              "      <td>2</td>\n",
              "      <td>2016-03-14 17:24:55</td>\n",
              "      <td>2016-03-14 17:32:30</td>\n",
              "      <td>1</td>\n",
              "      <td>-73.982155</td>\n",
              "      <td>40.767937</td>\n",
              "      <td>-73.964630</td>\n",
              "      <td>40.765602</td>\n",
              "      <td>N</td>\n",
              "      <td>455</td>\n",
              "      <td>Manhattan</td>\n",
              "      <td>Manhattan</td>\n",
              "      <td>0.933406</td>\n",
              "      <td>rush_hour_evening</td>\n",
              "    </tr>\n",
              "    <tr>\n",
              "      <th>1</th>\n",
              "      <td>id0012891</td>\n",
              "      <td>2</td>\n",
              "      <td>2016-03-10 21:45:01</td>\n",
              "      <td>2016-03-10 22:05:26</td>\n",
              "      <td>1</td>\n",
              "      <td>-73.981049</td>\n",
              "      <td>40.744339</td>\n",
              "      <td>-73.973000</td>\n",
              "      <td>40.789989</td>\n",
              "      <td>N</td>\n",
              "      <td>1225</td>\n",
              "      <td>Long Island City</td>\n",
              "      <td>Manhattan</td>\n",
              "      <td>3.178194</td>\n",
              "      <td>evening</td>\n",
              "    </tr>\n",
              "    <tr>\n",
              "      <th>2</th>\n",
              "      <td>id3361153</td>\n",
              "      <td>1</td>\n",
              "      <td>2016-03-11 07:11:23</td>\n",
              "      <td>2016-03-11 07:20:09</td>\n",
              "      <td>1</td>\n",
              "      <td>-73.994560</td>\n",
              "      <td>40.750526</td>\n",
              "      <td>-73.978500</td>\n",
              "      <td>40.756191</td>\n",
              "      <td>N</td>\n",
              "      <td>526</td>\n",
              "      <td>Weehawken</td>\n",
              "      <td>Manhattan</td>\n",
              "      <td>0.928961</td>\n",
              "      <td>rush_hour_morning</td>\n",
              "    </tr>\n",
              "    <tr>\n",
              "      <th>3</th>\n",
              "      <td>id2129090</td>\n",
              "      <td>1</td>\n",
              "      <td>2016-03-14 14:05:39</td>\n",
              "      <td>2016-03-14 14:28:05</td>\n",
              "      <td>1</td>\n",
              "      <td>-73.975090</td>\n",
              "      <td>40.758766</td>\n",
              "      <td>-73.953201</td>\n",
              "      <td>40.765068</td>\n",
              "      <td>N</td>\n",
              "      <td>1346</td>\n",
              "      <td>Manhattan</td>\n",
              "      <td>Long Island City</td>\n",
              "      <td>1.228003</td>\n",
              "      <td>afternoon</td>\n",
              "    </tr>\n",
              "    <tr>\n",
              "      <th>4</th>\n",
              "      <td>id0256505</td>\n",
              "      <td>1</td>\n",
              "      <td>2016-03-14 15:04:38</td>\n",
              "      <td>2016-03-14 15:16:13</td>\n",
              "      <td>1</td>\n",
              "      <td>-73.994484</td>\n",
              "      <td>40.745087</td>\n",
              "      <td>-73.998993</td>\n",
              "      <td>40.722710</td>\n",
              "      <td>N</td>\n",
              "      <td>695</td>\n",
              "      <td>New York City</td>\n",
              "      <td>New York City</td>\n",
              "      <td>1.562103</td>\n",
              "      <td>afternoon</td>\n",
              "    </tr>\n",
              "  </tbody>\n",
              "</table>\n",
              "</div>"
            ],
            "text/plain": [
              "          id  vendor_id      pickup_datetime     dropoff_datetime  \\\n",
              "0  id2875421          2  2016-03-14 17:24:55  2016-03-14 17:32:30   \n",
              "1  id0012891          2  2016-03-10 21:45:01  2016-03-10 22:05:26   \n",
              "2  id3361153          1  2016-03-11 07:11:23  2016-03-11 07:20:09   \n",
              "3  id2129090          1  2016-03-14 14:05:39  2016-03-14 14:28:05   \n",
              "4  id0256505          1  2016-03-14 15:04:38  2016-03-14 15:16:13   \n",
              "\n",
              "   passenger_count  pickup_longitude  pickup_latitude  dropoff_longitude  \\\n",
              "0                1        -73.982155        40.767937         -73.964630   \n",
              "1                1        -73.981049        40.744339         -73.973000   \n",
              "2                1        -73.994560        40.750526         -73.978500   \n",
              "3                1        -73.975090        40.758766         -73.953201   \n",
              "4                1        -73.994484        40.745087         -73.998993   \n",
              "\n",
              "   dropoff_latitude store_and_fwd_flag  trip_duration   pickup_district  \\\n",
              "0         40.765602                  N            455         Manhattan   \n",
              "1         40.789989                  N           1225  Long Island City   \n",
              "2         40.756191                  N            526         Weehawken   \n",
              "3         40.765068                  N           1346         Manhattan   \n",
              "4         40.722710                  N            695     New York City   \n",
              "\n",
              "   dropoff_district  distance        time_of_day  \n",
              "0         Manhattan  0.933406  rush_hour_evening  \n",
              "1         Manhattan  3.178194            evening  \n",
              "2         Manhattan  0.928961  rush_hour_morning  \n",
              "3  Long Island City  1.228003          afternoon  \n",
              "4     New York City  1.562103          afternoon  "
            ]
          },
          "metadata": {
            "tags": []
          },
          "execution_count": 18
        }
      ]
    },
    {
      "cell_type": "markdown",
      "metadata": {
        "id": "riSLaZVSD4uE",
        "colab_type": "text"
      },
      "source": [
        "## Is The Average Distance Affected By The Time Of Day?"
      ]
    },
    {
      "cell_type": "code",
      "metadata": {
        "id": "RcVta-VQD4uF",
        "colab_type": "code",
        "colab": {},
        "outputId": "c261ef56-61df-4788-de0a-2d4e49701934"
      },
      "source": [
        "timecount = df.groupby(by=\"time_of_day\").size().reset_index(name='counts')\n",
        "timecount.sort_values(by='counts', ascending=False, inplace=True)\n",
        "timecount = timecount.reset_index(drop=True)\n",
        "\n",
        "time_group = df.groupby(by='time_of_day').sum().reset_index()\n",
        "avg_dist = time_group['distance'] / timecount['counts']\n",
        "timecount['average_distance']=avg_dist\n",
        "timecount"
      ],
      "execution_count": 0,
      "outputs": [
        {
          "output_type": "execute_result",
          "data": {
            "text/html": [
              "<div>\n",
              "<style scoped>\n",
              "    .dataframe tbody tr th:only-of-type {\n",
              "        vertical-align: middle;\n",
              "    }\n",
              "\n",
              "    .dataframe tbody tr th {\n",
              "        vertical-align: top;\n",
              "    }\n",
              "\n",
              "    .dataframe thead th {\n",
              "        text-align: right;\n",
              "    }\n",
              "</style>\n",
              "<table border=\"1\" class=\"dataframe\">\n",
              "  <thead>\n",
              "    <tr style=\"text-align: right;\">\n",
              "      <th></th>\n",
              "      <th>time_of_day</th>\n",
              "      <th>counts</th>\n",
              "      <th>average_distance</th>\n",
              "    </tr>\n",
              "  </thead>\n",
              "  <tbody>\n",
              "    <tr>\n",
              "      <th>0</th>\n",
              "      <td>afternoon</td>\n",
              "      <td>39752</td>\n",
              "      <td>1.932456</td>\n",
              "    </tr>\n",
              "    <tr>\n",
              "      <th>1</th>\n",
              "      <td>evening</td>\n",
              "      <td>35194</td>\n",
              "      <td>2.099076</td>\n",
              "    </tr>\n",
              "    <tr>\n",
              "      <th>2</th>\n",
              "      <td>late_night</td>\n",
              "      <td>21528</td>\n",
              "      <td>2.558580</td>\n",
              "    </tr>\n",
              "    <tr>\n",
              "      <th>3</th>\n",
              "      <td>rush_hour_evening</td>\n",
              "      <td>11564</td>\n",
              "      <td>2.077128</td>\n",
              "    </tr>\n",
              "    <tr>\n",
              "      <th>4</th>\n",
              "      <td>rush_hour_morning</td>\n",
              "      <td>10147</td>\n",
              "      <td>1.943823</td>\n",
              "    </tr>\n",
              "  </tbody>\n",
              "</table>\n",
              "</div>"
            ],
            "text/plain": [
              "         time_of_day  counts  average_distance\n",
              "0          afternoon   39752          1.932456\n",
              "1            evening   35194          2.099076\n",
              "2         late_night   21528          2.558580\n",
              "3  rush_hour_evening   11564          2.077128\n",
              "4  rush_hour_morning   10147          1.943823"
            ]
          },
          "metadata": {
            "tags": []
          },
          "execution_count": 19
        }
      ]
    },
    {
      "cell_type": "markdown",
      "metadata": {
        "id": "Vz30AkPUD4uH",
        "colab_type": "text"
      },
      "source": [
        "We get the average distance with dividing total distance of the time of days to the amount of that time in the data. However, times are not ordered. Therefore, make them ordered and get clear results. In addition, this helps us to show data in graph better."
      ]
    },
    {
      "cell_type": "code",
      "metadata": {
        "id": "ShSIvqAbD4uH",
        "colab_type": "code",
        "colab": {},
        "outputId": "5865f762-4aa9-413a-99f1-3676742a4db5"
      },
      "source": [
        "newtime=['rush_hour_morning','afternoon','rush_hour_evening','evening','late_night']\n",
        "newavgdist=[1.943823,1.932456,2.077128,2.099076,2.558580]\n",
        "newcounts=[10147, 39752, 11564, 35194, 21528]\n",
        "newtimecount=pd.DataFrame(columns=['time_of_day', 'average_distance'])\n",
        "newtimecount['time_of_day'] = newtime\n",
        "newtimecount['amount_of_time'] = newcounts\n",
        "newtimecount['average_distance'] = newavgdist\n",
        "newtimecount"
      ],
      "execution_count": 0,
      "outputs": [
        {
          "output_type": "execute_result",
          "data": {
            "text/html": [
              "<div>\n",
              "<style scoped>\n",
              "    .dataframe tbody tr th:only-of-type {\n",
              "        vertical-align: middle;\n",
              "    }\n",
              "\n",
              "    .dataframe tbody tr th {\n",
              "        vertical-align: top;\n",
              "    }\n",
              "\n",
              "    .dataframe thead th {\n",
              "        text-align: right;\n",
              "    }\n",
              "</style>\n",
              "<table border=\"1\" class=\"dataframe\">\n",
              "  <thead>\n",
              "    <tr style=\"text-align: right;\">\n",
              "      <th></th>\n",
              "      <th>time_of_day</th>\n",
              "      <th>average_distance</th>\n",
              "      <th>amount_of_time</th>\n",
              "    </tr>\n",
              "  </thead>\n",
              "  <tbody>\n",
              "    <tr>\n",
              "      <th>0</th>\n",
              "      <td>rush_hour_morning</td>\n",
              "      <td>1.943823</td>\n",
              "      <td>10147</td>\n",
              "    </tr>\n",
              "    <tr>\n",
              "      <th>1</th>\n",
              "      <td>afternoon</td>\n",
              "      <td>1.932456</td>\n",
              "      <td>39752</td>\n",
              "    </tr>\n",
              "    <tr>\n",
              "      <th>2</th>\n",
              "      <td>rush_hour_evening</td>\n",
              "      <td>2.077128</td>\n",
              "      <td>11564</td>\n",
              "    </tr>\n",
              "    <tr>\n",
              "      <th>3</th>\n",
              "      <td>evening</td>\n",
              "      <td>2.099076</td>\n",
              "      <td>35194</td>\n",
              "    </tr>\n",
              "    <tr>\n",
              "      <th>4</th>\n",
              "      <td>late_night</td>\n",
              "      <td>2.558580</td>\n",
              "      <td>21528</td>\n",
              "    </tr>\n",
              "  </tbody>\n",
              "</table>\n",
              "</div>"
            ],
            "text/plain": [
              "         time_of_day  average_distance  amount_of_time\n",
              "0  rush_hour_morning          1.943823           10147\n",
              "1          afternoon          1.932456           39752\n",
              "2  rush_hour_evening          2.077128           11564\n",
              "3            evening          2.099076           35194\n",
              "4         late_night          2.558580           21528"
            ]
          },
          "metadata": {
            "tags": []
          },
          "execution_count": 20
        }
      ]
    },
    {
      "cell_type": "markdown",
      "metadata": {
        "id": "-AfUvb3GD4uJ",
        "colab_type": "text"
      },
      "source": [
        "Passengers use taxis for longer distances at later times than the early hours such as morning. We can easily see this with the graph below. As a result, we conclude that the average distance varies as time of the day change."
      ]
    },
    {
      "cell_type": "code",
      "metadata": {
        "scrolled": false,
        "id": "PRVe4NRtD4uJ",
        "colab_type": "code",
        "colab": {},
        "outputId": "7db27a31-3fbb-4348-c7c6-119494face68"
      },
      "source": [
        "plt.bar(newtimecount['time_of_day'], newtimecount['average_distance'], width= 0.4, color='orange')\n",
        "plt.xlabel('Time of Day', fontsize=15)\n",
        "plt.ylabel(\"Average Distance\", fontsize=15)\n",
        "plt.title(\"Time Of Day - Average Distance\", fontsize=18)\n",
        "plt.xticks(fontsize=12, rotation=90)\n",
        "plt.show()"
      ],
      "execution_count": 0,
      "outputs": [
        {
          "output_type": "display_data",
          "data": {
            "image/png": "[encoded data removed]",
            "text/plain": [
              "<Figure size 432x288 with 1 Axes>"
            ]
          },
          "metadata": {
            "tags": [],
            "needs_background": "light"
          }
        }
      ]
    },
    {
      "cell_type": "markdown",
      "metadata": {
        "id": "q0_8poxsD4uK",
        "colab_type": "text"
      },
      "source": [
        "## Is The Average Trip Duration Affected By The Time Of Day?"
      ]
    },
    {
      "cell_type": "code",
      "metadata": {
        "id": "r3R1FC3oD4uL",
        "colab_type": "code",
        "colab": {},
        "outputId": "17eb98a3-9d51-4cc8-de17-8a819417156c"
      },
      "source": [
        "time_group[['time_of_day','trip_duration']]"
      ],
      "execution_count": 0,
      "outputs": [
        {
          "output_type": "execute_result",
          "data": {
            "text/html": [
              "<div>\n",
              "<style scoped>\n",
              "    .dataframe tbody tr th:only-of-type {\n",
              "        vertical-align: middle;\n",
              "    }\n",
              "\n",
              "    .dataframe tbody tr th {\n",
              "        vertical-align: top;\n",
              "    }\n",
              "\n",
              "    .dataframe thead th {\n",
              "        text-align: right;\n",
              "    }\n",
              "</style>\n",
              "<table border=\"1\" class=\"dataframe\">\n",
              "  <thead>\n",
              "    <tr style=\"text-align: right;\">\n",
              "      <th></th>\n",
              "      <th>time_of_day</th>\n",
              "      <th>trip_duration</th>\n",
              "    </tr>\n",
              "  </thead>\n",
              "  <tbody>\n",
              "    <tr>\n",
              "      <th>0</th>\n",
              "      <td>afternoon</td>\n",
              "      <td>38317857</td>\n",
              "    </tr>\n",
              "    <tr>\n",
              "      <th>1</th>\n",
              "      <td>evening</td>\n",
              "      <td>31449194</td>\n",
              "    </tr>\n",
              "    <tr>\n",
              "      <th>2</th>\n",
              "      <td>late_night</td>\n",
              "      <td>18645303</td>\n",
              "    </tr>\n",
              "    <tr>\n",
              "      <th>3</th>\n",
              "      <td>rush_hour_evening</td>\n",
              "      <td>11847255</td>\n",
              "    </tr>\n",
              "    <tr>\n",
              "      <th>4</th>\n",
              "      <td>rush_hour_morning</td>\n",
              "      <td>9319905</td>\n",
              "    </tr>\n",
              "  </tbody>\n",
              "</table>\n",
              "</div>"
            ],
            "text/plain": [
              "         time_of_day  trip_duration\n",
              "0          afternoon       38317857\n",
              "1            evening       31449194\n",
              "2         late_night       18645303\n",
              "3  rush_hour_evening       11847255\n",
              "4  rush_hour_morning        9319905"
            ]
          },
          "metadata": {
            "tags": []
          },
          "execution_count": 22
        }
      ]
    },
    {
      "cell_type": "markdown",
      "metadata": {
        "id": "4aWV4KqsD4uN",
        "colab_type": "text"
      },
      "source": [
        "Let's make it ordered to see better."
      ]
    },
    {
      "cell_type": "code",
      "metadata": {
        "scrolled": false,
        "id": "hN_oDOlkD4uN",
        "colab_type": "code",
        "colab": {},
        "outputId": "d2aa80b0-c3fb-442b-9b90-c16e225ec361"
      },
      "source": [
        "trip_dur = [9319905,38317857,11847255,31449194,18645303]\n",
        "newtimecount['total_trip_duration'] = trip_dur\n",
        "newtimecount['average_trip_duration'] = newtimecount['total_trip_duration'] / newtimecount['amount_of_time']\n",
        "newtimecount"
      ],
      "execution_count": 0,
      "outputs": [
        {
          "output_type": "execute_result",
          "data": {
            "text/html": [
              "<div>\n",
              "<style scoped>\n",
              "    .dataframe tbody tr th:only-of-type {\n",
              "        vertical-align: middle;\n",
              "    }\n",
              "\n",
              "    .dataframe tbody tr th {\n",
              "        vertical-align: top;\n",
              "    }\n",
              "\n",
              "    .dataframe thead th {\n",
              "        text-align: right;\n",
              "    }\n",
              "</style>\n",
              "<table border=\"1\" class=\"dataframe\">\n",
              "  <thead>\n",
              "    <tr style=\"text-align: right;\">\n",
              "      <th></th>\n",
              "      <th>time_of_day</th>\n",
              "      <th>average_distance</th>\n",
              "      <th>amount_of_time</th>\n",
              "      <th>total_trip_duration</th>\n",
              "      <th>average_trip_duration</th>\n",
              "    </tr>\n",
              "  </thead>\n",
              "  <tbody>\n",
              "    <tr>\n",
              "      <th>0</th>\n",
              "      <td>rush_hour_morning</td>\n",
              "      <td>1.943823</td>\n",
              "      <td>10147</td>\n",
              "      <td>9319905</td>\n",
              "      <td>918.488716</td>\n",
              "    </tr>\n",
              "    <tr>\n",
              "      <th>1</th>\n",
              "      <td>afternoon</td>\n",
              "      <td>1.932456</td>\n",
              "      <td>39752</td>\n",
              "      <td>38317857</td>\n",
              "      <td>963.922746</td>\n",
              "    </tr>\n",
              "    <tr>\n",
              "      <th>2</th>\n",
              "      <td>rush_hour_evening</td>\n",
              "      <td>2.077128</td>\n",
              "      <td>11564</td>\n",
              "      <td>11847255</td>\n",
              "      <td>1024.494552</td>\n",
              "    </tr>\n",
              "    <tr>\n",
              "      <th>3</th>\n",
              "      <td>evening</td>\n",
              "      <td>2.099076</td>\n",
              "      <td>35194</td>\n",
              "      <td>31449194</td>\n",
              "      <td>893.595329</td>\n",
              "    </tr>\n",
              "    <tr>\n",
              "      <th>4</th>\n",
              "      <td>late_night</td>\n",
              "      <td>2.558580</td>\n",
              "      <td>21528</td>\n",
              "      <td>18645303</td>\n",
              "      <td>866.095457</td>\n",
              "    </tr>\n",
              "  </tbody>\n",
              "</table>\n",
              "</div>"
            ],
            "text/plain": [
              "         time_of_day  average_distance  amount_of_time  total_trip_duration  \\\n",
              "0  rush_hour_morning          1.943823           10147              9319905   \n",
              "1          afternoon          1.932456           39752             38317857   \n",
              "2  rush_hour_evening          2.077128           11564             11847255   \n",
              "3            evening          2.099076           35194             31449194   \n",
              "4         late_night          2.558580           21528             18645303   \n",
              "\n",
              "   average_trip_duration  \n",
              "0             918.488716  \n",
              "1             963.922746  \n",
              "2            1024.494552  \n",
              "3             893.595329  \n",
              "4             866.095457  "
            ]
          },
          "metadata": {
            "tags": []
          },
          "execution_count": 23
        }
      ]
    },
    {
      "cell_type": "markdown",
      "metadata": {
        "id": "WRMqyMHXD4uP",
        "colab_type": "text"
      },
      "source": [
        "It can be easily seen that in the rush hour evening, average trip duration is the most which is almost 17 minutes. Late night is the least one which is almost 14 minutes which is not so much different from the rush hour evenings' trip duration. \n",
        "\n",
        "The average trip duration increases from rush hour morning to rush hour evening, then it decreases. However, it does not give us so clear results to prove that the average trip duration is affected by the time of day. For this proof, we should use statistical tests to get more clear results."
      ]
    },
    {
      "cell_type": "code",
      "metadata": {
        "scrolled": false,
        "id": "7Fsl6rY8D4uP",
        "colab_type": "code",
        "colab": {},
        "outputId": "a938b6d5-edb5-42f9-8be1-bfedf15c4a0f"
      },
      "source": [
        "fig, axs = plt.subplots(1, 1, figsize=(10, 6))\n",
        "\n",
        "plt.bar(newtimecount['time_of_day'], newtimecount['average_trip_duration'], width=0.5, color='gray', alpha=0.7, align='center')\n",
        "plt.xlabel('Time of Day', fontsize=15)\n",
        "plt.ylabel(\"Average Trip Duration (s)\", fontsize=15)\n",
        "plt.title(\"Time Of Day - Average Trip Duration\", fontsize=18)\n",
        "plt.xticks(fontsize=12, rotation=90)\n",
        "\n",
        "plt.show()"
      ],
      "execution_count": 0,
      "outputs": [
        {
          "output_type": "display_data",
          "data": {
            "image/png": "[encoded data removed]",
            "text/plain": [
              "<Figure size 720x432 with 1 Axes>"
            ]
          },
          "metadata": {
            "tags": [],
            "needs_background": "light"
          }
        }
      ]
    },
    {
      "cell_type": "markdown",
      "metadata": {
        "id": "tgUanGN7D4uR",
        "colab_type": "text"
      },
      "source": [
        "## Null Hypothesis: Passenger Group Size Has No Effect On The Distance.\n",
        "\n",
        "In this part, we will look for does passenger group size have an effect on the distance.\n",
        "\n",
        "First let's get the information from the data with grouping the passenger group size and get their total and average distances. The graph below helps us to see the results better."
      ]
    },
    {
      "cell_type": "code",
      "metadata": {
        "id": "HNyh4aC2D4uS",
        "colab_type": "code",
        "colab": {},
        "outputId": "14df8fca-c404-44f8-f95f-01a25d635b8d"
      },
      "source": [
        "datapeople=df.groupby(by='passenger_count').size().reset_index(name='counts')\n",
        "\n",
        "copy_datapeople=df.groupby(by='passenger_count').sum()\n",
        "datapeople['total_distances']=copy_datapeople['distance']\n",
        "\n",
        "datapeople['avg_distance'] = datapeople['total_distances'] / datapeople['counts']\n",
        "\n",
        "datapeople"
      ],
      "execution_count": 0,
      "outputs": [
        {
          "output_type": "execute_result",
          "data": {
            "text/html": [
              "<div>\n",
              "<style scoped>\n",
              "    .dataframe tbody tr th:only-of-type {\n",
              "        vertical-align: middle;\n",
              "    }\n",
              "\n",
              "    .dataframe tbody tr th {\n",
              "        vertical-align: top;\n",
              "    }\n",
              "\n",
              "    .dataframe thead th {\n",
              "        text-align: right;\n",
              "    }\n",
              "</style>\n",
              "<table border=\"1\" class=\"dataframe\">\n",
              "  <thead>\n",
              "    <tr style=\"text-align: right;\">\n",
              "      <th></th>\n",
              "      <th>passenger_count</th>\n",
              "      <th>counts</th>\n",
              "      <th>total_distances</th>\n",
              "      <th>avg_distance</th>\n",
              "    </tr>\n",
              "  </thead>\n",
              "  <tbody>\n",
              "    <tr>\n",
              "      <th>0</th>\n",
              "      <td>0</td>\n",
              "      <td>6</td>\n",
              "      <td>11.993007</td>\n",
              "      <td>1.998835</td>\n",
              "    </tr>\n",
              "    <tr>\n",
              "      <th>1</th>\n",
              "      <td>1</td>\n",
              "      <td>84290</td>\n",
              "      <td>176102.875118</td>\n",
              "      <td>2.089250</td>\n",
              "    </tr>\n",
              "    <tr>\n",
              "      <th>2</th>\n",
              "      <td>2</td>\n",
              "      <td>16800</td>\n",
              "      <td>37146.580726</td>\n",
              "      <td>2.211106</td>\n",
              "    </tr>\n",
              "    <tr>\n",
              "      <th>3</th>\n",
              "      <td>3</td>\n",
              "      <td>4634</td>\n",
              "      <td>9838.713510</td>\n",
              "      <td>2.123158</td>\n",
              "    </tr>\n",
              "    <tr>\n",
              "      <th>4</th>\n",
              "      <td>4</td>\n",
              "      <td>2188</td>\n",
              "      <td>4656.539575</td>\n",
              "      <td>2.128217</td>\n",
              "    </tr>\n",
              "    <tr>\n",
              "      <th>5</th>\n",
              "      <td>5</td>\n",
              "      <td>6296</td>\n",
              "      <td>13389.453205</td>\n",
              "      <td>2.126660</td>\n",
              "    </tr>\n",
              "    <tr>\n",
              "      <th>6</th>\n",
              "      <td>6</td>\n",
              "      <td>3971</td>\n",
              "      <td>8372.702339</td>\n",
              "      <td>2.108462</td>\n",
              "    </tr>\n",
              "  </tbody>\n",
              "</table>\n",
              "</div>"
            ],
            "text/plain": [
              "   passenger_count  counts  total_distances  avg_distance\n",
              "0                0       6        11.993007      1.998835\n",
              "1                1   84290    176102.875118      2.089250\n",
              "2                2   16800     37146.580726      2.211106\n",
              "3                3    4634      9838.713510      2.123158\n",
              "4                4    2188      4656.539575      2.128217\n",
              "5                5    6296     13389.453205      2.126660\n",
              "6                6    3971      8372.702339      2.108462"
            ]
          },
          "metadata": {
            "tags": []
          },
          "execution_count": 25
        }
      ]
    },
    {
      "cell_type": "code",
      "metadata": {
        "id": "KrKXrYntD4uT",
        "colab_type": "code",
        "colab": {},
        "outputId": "16510755-f964-4c1a-a83a-0eb754324a2e"
      },
      "source": [
        "fig = plt.figure(figsize=(10,7))\n",
        "ax = sns.barplot(datapeople['passenger_count'], datapeople['avg_distance'], color='orange', alpha=0.8)\n",
        "plt.xlabel('Passenger Count', fontsize=15)\n",
        "plt.ylabel(\"Average Distance\", fontsize=15)\n",
        "plt.title(\"Passenger Count - Average Distance\", fontsize=18)\n",
        "plt.yticks(np.arange(0, 2.5, step=0.2))\n",
        "plt.show()"
      ],
      "execution_count": 0,
      "outputs": [
        {
          "output_type": "display_data",
          "data": {
            "image/png": "[encoded data removed]",
            "text/plain": [
              "<Figure size 720x504 with 1 Axes>"
            ]
          },
          "metadata": {
            "tags": [],
            "needs_background": "light"
          }
        }
      ]
    },
    {
      "cell_type": "markdown",
      "metadata": {
        "id": "HhA866bKD4uV",
        "colab_type": "text"
      },
      "source": [
        "The differences of the average distances for every passenger group size almost same with each other. Only the group that has 2 people used taxis for little longer distance.\n",
        "\n",
        "To get the true result for this research, we will use ANOVA which is an statistical test to compare more than two samples. \n",
        "\n",
        "ANOVA is a good statistical test for more than two samples but it doesn't show us for which samples we can reject the Null Hypothesis. Therefore we did tukey hsd test to see which samples we can reject the hypothesis."
      ]
    },
    {
      "cell_type": "code",
      "metadata": {
        "id": "2upuN0jgD4uV",
        "colab_type": "code",
        "colab": {}
      },
      "source": [
        "people0=df[df['passenger_count'] == 0]['distance']\n",
        "people1=df[df['passenger_count'] == 1]['distance']\n",
        "people2=df[df['passenger_count'] == 2]['distance']\n",
        "people3=df[df['passenger_count'] == 3]['distance']\n",
        "people4=df[df['passenger_count'] == 4]['distance']\n",
        "people5=df[df['passenger_count'] == 5]['distance']\n",
        "people6=df[df['passenger_count'] == 6]['distance']"
      ],
      "execution_count": 0,
      "outputs": []
    },
    {
      "cell_type": "code",
      "metadata": {
        "id": "xalS-EVhD4uX",
        "colab_type": "code",
        "colab": {},
        "outputId": "e53f733f-0ba9-4050-c734-8ab232b390e4"
      },
      "source": [
        "stats.f_oneway(people0, people1, people2, people3, people4, people5, people6)"
      ],
      "execution_count": 0,
      "outputs": [
        {
          "output_type": "execute_result",
          "data": {
            "text/plain": [
              "F_onewayResult(statistic=6.070654612089595, pvalue=2.285100663034983e-06)"
            ]
          },
          "metadata": {
            "tags": []
          },
          "execution_count": 40
        }
      ]
    },
    {
      "cell_type": "markdown",
      "metadata": {
        "id": "8hZJXR6fD4uY",
        "colab_type": "text"
      },
      "source": [
        "If we set the significance level 0.05 which is more than p value obviously, we can reject the null hypothesis but we cannot know which for which samples we can reject. So let's use the tukey hsd test to see this."
      ]
    },
    {
      "cell_type": "code",
      "metadata": {
        "id": "crmedjBJD4ua",
        "colab_type": "code",
        "colab": {}
      },
      "source": [
        "from statsmodels.stats.multicomp import pairwise_tukeyhsd\n",
        "from statsmodels.stats.multicomp import MultiComparison"
      ],
      "execution_count": 0,
      "outputs": []
    },
    {
      "cell_type": "code",
      "metadata": {
        "id": "_9-u7-H4D4ub",
        "colab_type": "code",
        "colab": {},
        "outputId": "87cbbd15-ab42-44e3-d876-2b775b5792c8"
      },
      "source": [
        "mc = MultiComparison(df['distance'], df['passenger_count'])\n",
        "outcome = mc.tukeyhsd()\n",
        " \n",
        "print(outcome)\n",
        "print(mc.groupsunique)"
      ],
      "execution_count": 0,
      "outputs": [
        {
          "output_type": "stream",
          "text": [
            "Multiple Comparison of Means - Tukey HSD,FWER=0.05\n",
            "============================================\n",
            "group1 group2 meandiff  lower  upper  reject\n",
            "--------------------------------------------\n",
            "  0      1     0.0904  -2.8081 2.9889 False \n",
            "  0      2     0.2123  -2.6866 3.1112 False \n",
            "  0      3     0.1243  -2.7759 3.0246 False \n",
            "  0      4     0.1294   -2.773 3.0317 False \n",
            "  0      5     0.1278  -2.7719 3.0276 False \n",
            "  0      6     0.1096   -2.791 3.0102 False \n",
            "  1      2     0.1219   0.0619 0.1818  True \n",
            "  1      3     0.0339  -0.0732 0.141  False \n",
            "  1      4     0.039   -0.1148 0.1927 False \n",
            "  1      5     0.0374  -0.0553 0.1302 False \n",
            "  1      6     0.0192  -0.0961 0.1345 False \n",
            "  2      3    -0.0879  -0.2057 0.0299 False \n",
            "  2      4    -0.0829  -0.2442 0.0785 False \n",
            "  2      5    -0.0844  -0.1894 0.0205 False \n",
            "  2      6    -0.1026  -0.2279 0.0226 False \n",
            "  3      4     0.0051  -0.1791 0.1892 False \n",
            "  3      5     0.0035  -0.1339 0.1409 False \n",
            "  3      6    -0.0147  -0.1682 0.1388 False \n",
            "  4      5    -0.0016  -0.1777 0.1746 False \n",
            "  4      6    -0.0198  -0.2088 0.1693 False \n",
            "  5      6    -0.0182  -0.1621 0.1257 False \n",
            "--------------------------------------------\n",
            "[0 1 2 3 4 5 6]\n"
          ],
          "name": "stdout"
        }
      ]
    },
    {
      "cell_type": "markdown",
      "metadata": {
        "id": "Hod2u1CDD4ud",
        "colab_type": "text"
      },
      "source": [
        "### Result:\n",
        "It is clear to see that actually we cannot reject the Null Hypothesis for almost all the samples after the tukey hsd test. Only when passenger group size pair of 1 and 2 ,it can be said there is an effect of the passenger group size on distance. However for other samples, we cannot reject the Null Hypothesis."
      ]
    },
    {
      "cell_type": "markdown",
      "metadata": {
        "id": "CFhUSR03D4ud",
        "colab_type": "text"
      },
      "source": [
        "## Null hypothesis: The Day Of The Week Has No Effect On The Distance.\n",
        "\n",
        "In this part, we will look for does the day of the week has an effect on the distance of taxis.\n",
        "\n",
        "For this, first let's get the average distances for each day by dividing total distances for each day to amount of trips in that day.\n",
        "\n",
        "In this research, the days of the week are represented as numbers.\n",
        "\n",
        "    0 = 'Monday', 1 = 'Tuesday', 2 = 'Wednesday', 3 = 'Thursday', 4 = 'Friday', 5 = 'Saturday', 6 = 'Sunday'"
      ]
    },
    {
      "cell_type": "code",
      "metadata": {
        "id": "WA5e1jYQD4ud",
        "colab_type": "code",
        "colab": {}
      },
      "source": [
        "df['days']=pd.DatetimeIndex(df['pickup_datetime']).weekday\n",
        "days=df.groupby(by='days').size().reset_index(name='counts')"
      ],
      "execution_count": 0,
      "outputs": []
    },
    {
      "cell_type": "code",
      "metadata": {
        "id": "lWtEWkpdD4uf",
        "colab_type": "code",
        "colab": {}
      },
      "source": [
        "days['distances'] = df.groupby(by='days').sum()['distance']\n",
        "days['avg_distance'] = days['distances'] / days['counts']"
      ],
      "execution_count": 0,
      "outputs": []
    },
    {
      "cell_type": "code",
      "metadata": {
        "id": "HdoXr3EDD4ug",
        "colab_type": "code",
        "colab": {},
        "outputId": "9400d8d5-abd5-4cd0-e6ed-49fdbca02a08"
      },
      "source": [
        "days"
      ],
      "execution_count": 0,
      "outputs": [
        {
          "output_type": "execute_result",
          "data": {
            "text/html": [
              "<div>\n",
              "<style scoped>\n",
              "    .dataframe tbody tr th:only-of-type {\n",
              "        vertical-align: middle;\n",
              "    }\n",
              "\n",
              "    .dataframe tbody tr th {\n",
              "        vertical-align: top;\n",
              "    }\n",
              "\n",
              "    .dataframe thead th {\n",
              "        text-align: right;\n",
              "    }\n",
              "</style>\n",
              "<table border=\"1\" class=\"dataframe\">\n",
              "  <thead>\n",
              "    <tr style=\"text-align: right;\">\n",
              "      <th></th>\n",
              "      <th>days</th>\n",
              "      <th>counts</th>\n",
              "      <th>distances</th>\n",
              "      <th>avg_distance</th>\n",
              "    </tr>\n",
              "  </thead>\n",
              "  <tbody>\n",
              "    <tr>\n",
              "      <th>0</th>\n",
              "      <td>0</td>\n",
              "      <td>15486</td>\n",
              "      <td>32899.233069</td>\n",
              "      <td>2.124450</td>\n",
              "    </tr>\n",
              "    <tr>\n",
              "      <th>1</th>\n",
              "      <td>1</td>\n",
              "      <td>15718</td>\n",
              "      <td>32475.186102</td>\n",
              "      <td>2.066114</td>\n",
              "    </tr>\n",
              "    <tr>\n",
              "      <th>2</th>\n",
              "      <td>2</td>\n",
              "      <td>16705</td>\n",
              "      <td>34802.647471</td>\n",
              "      <td>2.083367</td>\n",
              "    </tr>\n",
              "    <tr>\n",
              "      <th>3</th>\n",
              "      <td>3</td>\n",
              "      <td>17445</td>\n",
              "      <td>36399.010453</td>\n",
              "      <td>2.086501</td>\n",
              "    </tr>\n",
              "    <tr>\n",
              "      <th>4</th>\n",
              "      <td>4</td>\n",
              "      <td>18117</td>\n",
              "      <td>37544.149913</td>\n",
              "      <td>2.072316</td>\n",
              "    </tr>\n",
              "    <tr>\n",
              "      <th>5</th>\n",
              "      <td>5</td>\n",
              "      <td>18838</td>\n",
              "      <td>38486.257794</td>\n",
              "      <td>2.043012</td>\n",
              "    </tr>\n",
              "    <tr>\n",
              "      <th>6</th>\n",
              "      <td>6</td>\n",
              "      <td>15876</td>\n",
              "      <td>36912.372678</td>\n",
              "      <td>2.325042</td>\n",
              "    </tr>\n",
              "  </tbody>\n",
              "</table>\n",
              "</div>"
            ],
            "text/plain": [
              "   days  counts     distances  avg_distance\n",
              "0     0   15486  32899.233069      2.124450\n",
              "1     1   15718  32475.186102      2.066114\n",
              "2     2   16705  34802.647471      2.083367\n",
              "3     3   17445  36399.010453      2.086501\n",
              "4     4   18117  37544.149913      2.072316\n",
              "5     5   18838  38486.257794      2.043012\n",
              "6     6   15876  36912.372678      2.325042"
            ]
          },
          "metadata": {
            "tags": []
          },
          "execution_count": 33
        }
      ]
    },
    {
      "cell_type": "markdown",
      "metadata": {
        "id": "38UUCHxBD4ui",
        "colab_type": "text"
      },
      "source": [
        "We can see that passengers used taxis for longer trips in Sunday than other days. In addition, taxis were used for shorter trips by passengers than other days.\n",
        "\n",
        "Let's use an statistical test (ANOVA because we have 7 sample) to see whether we can reject the Null Hypothesis or not."
      ]
    },
    {
      "cell_type": "code",
      "metadata": {
        "id": "wrlyVGIaD4ui",
        "colab_type": "code",
        "colab": {},
        "outputId": "6529c9c3-a757-46e3-8500-e9d357d15180"
      },
      "source": [
        "fig = plt.figure(figsize=(10,8))\n",
        "ax = plt.bar(days['days'], days['avg_distance'], width=0.3, alpha=0.85)\n",
        "plt.xlabel('Days', fontsize=15)\n",
        "plt.ylabel(\"Average Distance\", fontsize=15)\n",
        "plt.title(\"Days - Average Distance\", fontsize=18)\n",
        "plt.yticks(np.arange(0, 2.5, step=0.25))\n",
        "\n",
        "plt.show()"
      ],
      "execution_count": 0,
      "outputs": [
        {
          "output_type": "display_data",
          "data": {
            "image/png": "[encoded data removed]",
            "text/plain": [
              "<Figure size 720x576 with 1 Axes>"
            ]
          },
          "metadata": {
            "tags": [],
            "needs_background": "light"
          }
        }
      ]
    },
    {
      "cell_type": "code",
      "metadata": {
        "id": "OMLuLiI1D4uk",
        "colab_type": "code",
        "colab": {}
      },
      "source": [
        "day0=df[df['days'] == 0]['distance']\n",
        "day1=df[df['days'] == 1]['distance']\n",
        "day2=df[df['days'] == 2]['distance']\n",
        "day3=df[df['days'] == 3]['distance']\n",
        "day4=df[df['days'] == 4]['distance']\n",
        "day5=df[df['days'] == 5]['distance']\n",
        "day6=df[df['days'] == 6]['distance']"
      ],
      "execution_count": 0,
      "outputs": []
    },
    {
      "cell_type": "code",
      "metadata": {
        "id": "GvBQq9XbD4ul",
        "colab_type": "code",
        "colab": {},
        "outputId": "178eebb7-7a24-434c-c1fd-86f49cf78fad"
      },
      "source": [
        "stats.f_oneway(day0, day1, day2, day3, day4, day5, day6)"
      ],
      "execution_count": 0,
      "outputs": [
        {
          "output_type": "execute_result",
          "data": {
            "text/plain": [
              "F_onewayResult(statistic=25.8725746286227, pvalue=6.340651481233433e-31)"
            ]
          },
          "metadata": {
            "tags": []
          },
          "execution_count": 36
        }
      ]
    },
    {
      "cell_type": "markdown",
      "metadata": {
        "id": "cTqcWGHXD4un",
        "colab_type": "text"
      },
      "source": [
        "If we set the significance level to 0.05, we can reject the Null Hypothesis but we should use tukey hsd test to see for which samples we can reject."
      ]
    },
    {
      "cell_type": "code",
      "metadata": {
        "id": "qtLgGhYeD4un",
        "colab_type": "code",
        "colab": {},
        "outputId": "50aa0d12-828f-4a42-95a7-0f9c544bc110"
      },
      "source": [
        "mc2 = MultiComparison(df['distance'], df['days'])\n",
        "outcome2 = mc2.tukeyhsd()\n",
        " \n",
        "print(outcome2)\n",
        "print(mc2.groupsunique)"
      ],
      "execution_count": 0,
      "outputs": [
        {
          "output_type": "stream",
          "text": [
            "Multiple Comparison of Means - Tukey HSD,FWER=0.05\n",
            "=============================================\n",
            "group1 group2 meandiff  lower   upper  reject\n",
            "---------------------------------------------\n",
            "  0      1    -0.0583  -0.1387  0.022  False \n",
            "  0      2    -0.0411  -0.1202  0.0381 False \n",
            "  0      3    -0.0379  -0.1163  0.0404 False \n",
            "  0      4    -0.0521  -0.1298  0.0255 False \n",
            "  0      5    -0.0814  -0.1584 -0.0045  True \n",
            "  0      6     0.2006   0.1204  0.2807  True \n",
            "  1      2     0.0173  -0.0616  0.0961 False \n",
            "  1      3     0.0204  -0.0577  0.0984 False \n",
            "  1      4     0.0062  -0.0711  0.0836 False \n",
            "  1      5    -0.0231  -0.0998  0.0536 False \n",
            "  1      6     0.2589   0.1791  0.3388  True \n",
            "  2      3     0.0031  -0.0737  0.0799 False \n",
            "  2      4    -0.0111  -0.0872  0.0651 False \n",
            "  2      5    -0.0404  -0.1158  0.0351 False \n",
            "  2      6     0.2417   0.163   0.3203  True \n",
            "  3      4    -0.0142  -0.0895  0.0611 False \n",
            "  3      5    -0.0435  -0.1181  0.0311 False \n",
            "  3      6     0.2385   0.1607  0.3164  True \n",
            "  4      5    -0.0293  -0.1031  0.0445 False \n",
            "  4      6     0.2527   0.1756  0.3299  True \n",
            "  5      6     0.282    0.2056  0.3585  True \n",
            "---------------------------------------------\n",
            "[0 1 2 3 4 5 6]\n"
          ],
          "name": "stdout"
        }
      ]
    },
    {
      "cell_type": "markdown",
      "metadata": {
        "id": "kgsCBLFvD4uo",
        "colab_type": "text"
      },
      "source": [
        "### Result:\n",
        "For some of the sample pair, we can reject the Null Hypothesis which is mostly consist of Saturday and Sunday. It shows us that Saturday and Sunday has an effect on the average distance of taxi trips but we cannot say this for the weekdays."
      ]
    }
  ]
}